{
 "cells": [
  {
   "cell_type": "code",
   "execution_count": null,
   "metadata": {},
   "outputs": [],
   "source": [
    "import pandas as pd"
   ]
  },
  {
   "cell_type": "code",
   "execution_count": null,
   "metadata": {},
   "outputs": [],
   "source": [
    "#read the date and show the table\n",
    "df = pd.read_csv('../mvr-data.csv', parse_dates=['DateOfRecord', 'DateOfEvent'])\n",
    "df"
   ]
  },
  {
   "cell_type": "markdown",
   "metadata": {},
   "source": [
    "### R code for transformation\n",
    "\n",
    "This should be rewritten in python:\n",
    "this chunk makes a new df keeping only the traffic accinents (excluding other things like dog attacks), and adds new variables (columns) in order to have more fine-grained data points.\n",
    "\n",
    "\n",
    "```\n",
    "#keep the traffic accidents\n",
    "traffacc <- accidents %>%\n",
    "  #separate Date of event; having months as observations might be useful.\n",
    "  separate(DateOfEvent, c(\"Day\", \"Month\", \"Year\"), sep = \"\\\\.\", remove = FALSE) %>%\n",
    "  #separate hours:mins, make numeric\n",
    "  separate(Hour, c(\"H\", \"M\"), sep = \"\\\\:\", remove = FALSE) %>%\n",
    "  mutate(Hours = as.numeric(H)) %>%\n",
    "  #filter so we keep just the traffic accidents\n",
    "  filter(Event == \"сообраќајна незгода\") %>% \n",
    "  mutate(Outcome = ordered(Outcome, levels = c(\"непознато\", \"повреда\", \"тешка повреда\", \"животна опасност\", \"смрт\")))\n",
    "  \n",
    "```"
   ]
  },
  {
   "cell_type": "code",
   "execution_count": null,
   "metadata": {},
   "outputs": [],
   "source": [
    "traffacc = df\n",
    "traffacc['Year'] = pd.DatetimeIndex(df['DateOfEvent']).year\n",
    "traffacc['Month'] = pd.DatetimeIndex(df['DateOfEvent']).month\n",
    "traffacc['Day'] = pd.DatetimeIndex(df['DateOfEvent']).day\n",
    "traffacc"
   ]
  },
  {
   "cell_type": "code",
   "execution_count": null,
   "metadata": {},
   "outputs": [],
   "source": [
    "def hours(val):\n",
    "    try:\n",
    "        return int(val.split(':')[0])\n",
    "    except Exception:\n",
    "        return None\n",
    "    \n",
    "traffacc = traffacc.assign(Hours = traffacc.Hour.map(hours))\n",
    "traffacc"
   ]
  },
  {
   "cell_type": "code",
   "execution_count": null,
   "metadata": {},
   "outputs": [],
   "source": [
    "traffacc = traffacc.query('Event == \"сообраќајна незгода\"')\n",
    "traffacc"
   ]
  },
  {
   "cell_type": "code",
   "execution_count": null,
   "metadata": {},
   "outputs": [],
   "source": [
    "# from pandas.api.types import CategoricalDtype\n",
    "\n",
    "cat_type = CategoricalDtype(categories=[\"непознато\", \"повреда\", \"тешка повреда\", \"животна опасност\", \"смрт\"],\n",
    "                            ordered=True)\n",
    "\n",
    "traffacc = traffacc.assign(Outcome = traffacc['Outcome'].astype(cat_type))\n",
    "\n",
    "traffacc['Outcome']\n"
   ]
  },
  {
   "cell_type": "code",
   "execution_count": null,
   "metadata": {},
   "outputs": [],
   "source": [
    "import seaborn as sns\n",
    "\n",
    "sns.set()\n",
    "\n",
    "g = sns.catplot(\n",
    "    data=traffacc,\n",
    "    kind='strip',\n",
    "    x='AgeV1',\n",
    "    y='Hours',\n",
    "    col='TypeOfRoad',\n",
    "    hue='Outcome'\n",
    ")\n",
    "\n",
    "g = (g.set_axis_labels('Age','Hour of day').set(xlim=(0, None),ylim=(0,24)))\n"
   ]
  },
  {
   "cell_type": "code",
   "execution_count": null,
   "metadata": {},
   "outputs": [],
   "source": []
  },
  {
   "cell_type": "code",
   "execution_count": null,
   "metadata": {},
   "outputs": [],
   "source": []
  }
 ],
 "metadata": {
  "kernelspec": {
   "display_name": "Python 3",
   "language": "python",
   "name": "python3"
  },
  "language_info": {
   "codemirror_mode": {
    "name": "ipython",
    "version": 3
   },
   "file_extension": ".py",
   "mimetype": "text/x-python",
   "name": "python",
   "nbconvert_exporter": "python",
   "pygments_lexer": "ipython3",
   "version": "3.7.0"
  }
 },
 "nbformat": 4,
 "nbformat_minor": 2
}
