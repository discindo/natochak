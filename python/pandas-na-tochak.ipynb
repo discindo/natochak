{
 "cells": [
  {
   "cell_type": "code",
   "execution_count": null,
   "metadata": {
    "scrolled": false
   },
   "outputs": [],
   "source": [
    "import pandas as pd"
   ]
  },
  {
   "cell_type": "markdown",
   "metadata": {},
   "source": [
    "Read the CSV file. We know by looking at the CSV file that there are two columns that have dates, thus we ```parse_dates```"
   ]
  },
  {
   "cell_type": "code",
   "execution_count": null,
   "metadata": {
    "scrolled": true
   },
   "outputs": [],
   "source": [
    "#read the date and show the table\n",
    "df = pd.read_csv('../mvr-data.csv', parse_dates=['DateOfRecord', 'DateOfEvent'])\n",
    "#df"
   ]
  },
  {
   "cell_type": "markdown",
   "metadata": {},
   "source": [
    "There is no need to have a separate dataframe for the transormations. It is there just demonstration purposes. Compare ```df``` and ```traffacc``` to see diferences.\n",
    "\n",
    "Below we add thre new variables (columns): year, month, and day. The final line is, again, not necessary. It is there to show the new dataframe with new variables. The same happens below after "
   ]
  },
  {
   "cell_type": "code",
   "execution_count": null,
   "metadata": {
    "scrolled": true
   },
   "outputs": [],
   "source": [
    "traffacc = df\n",
    "traffacc['Year'] = pd.DatetimeIndex(df['DateOfEvent']).year\n",
    "traffacc['Month'] = pd.DatetimeIndex(df['DateOfEvent']).month\n",
    "traffacc['Day'] = pd.DatetimeIndex(df['DateOfEvent']).day\n",
    "#traffacc"
   ]
  },
  {
   "cell_type": "markdown",
   "metadata": {},
   "source": [
    "The time is in a separate column in HH:MM format but it is a string. Because we just need the hours, we create a new variable by which only has hours, and is in datetime format."
   ]
  },
  {
   "cell_type": "code",
   "execution_count": null,
   "metadata": {},
   "outputs": [],
   "source": [
    "#traffacc['Hour'] = pd.to_datetime(traffacc['Hour'], errors='coerce')\n",
    "#traffacc['Hour'] = traffacc['Hour'].floor('H')\n",
    "#traffacc['Hour']"
   ]
  },
  {
   "cell_type": "code",
   "execution_count": null,
   "metadata": {
    "scrolled": false
   },
   "outputs": [],
   "source": [
    "#from datetime import datetime as dt\n",
    "#from datetime import timedelta as td\n",
    "\n",
    "#to make datetime format\n",
    "#def convertdt(val):\n",
    "    #try:\n",
    "        #return dt.replace(dt.strptime(val, '%H:%M').time(), minute=0)\n",
    "    #except Exception:\n",
    "        #return None\n",
    "    \n",
    "#and to reset minutes\n",
    "#def resetdt(val):\n",
    "    #return val + td(minutes = -val.minute, seconds = -dt.second)\n",
    "    #return dt.replace(val, minute=0)\n",
    "    \n",
    "    \n",
    "#traffacc = traffacc.assign(Hours = traffacc.Hour.map(convertdt))\n",
    "#traffacc = traffacc.assign(Hours = traffacc.Hours.map(resetdt))\n",
    "\n",
    "\n",
    "#traffacc.Hours"
   ]
  },
  {
   "cell_type": "code",
   "execution_count": null,
   "metadata": {},
   "outputs": [],
   "source": [
    "def hours(val):\n",
    "    try:\n",
    "        return int(val.split(':')[0])\n",
    "    except Exception:\n",
    "        return None\n",
    "    \n",
    "traffacc = traffacc.assign(Hours = traffacc.Hour.map(hours))\n",
    "#traffacc"
   ]
  },
  {
   "cell_type": "markdown",
   "metadata": {},
   "source": [
    "We have decided to just look at traffic accidents, so we filter out anything else by quering for ```Event```."
   ]
  },
  {
   "cell_type": "code",
   "execution_count": null,
   "metadata": {
    "scrolled": false
   },
   "outputs": [],
   "source": [
    "traffacc = traffacc.query('Event == \"сообраќајна незгода\"')\n",
    "#traffacc"
   ]
  },
  {
   "cell_type": "markdown",
   "metadata": {},
   "source": [
    "We need to order the ```Outcome``` so that the order represents the severity of the injuries."
   ]
  },
  {
   "cell_type": "code",
   "execution_count": null,
   "metadata": {
    "scrolled": false
   },
   "outputs": [],
   "source": [
    "from pandas.api.types import CategoricalDtype\n",
    "\n",
    "cat_type = CategoricalDtype(categories=[\"непознато\", \"повреда\", \"тешка повреда\", \"животна опасност\", \"смрт\"],\n",
    "                            ordered=True)\n",
    "\n",
    "traffacc = traffacc.assign(Outcome = traffacc['Outcome'].astype(cat_type))\n",
    "\n",
    "#traffacc['Outcome']\n"
   ]
  },
  {
   "cell_type": "markdown",
   "metadata": {},
   "source": [
    "We (probably) need the municipalities' names in latin for plotting. To do that in python we also need to instal transliterate."
   ]
  },
  {
   "cell_type": "code",
   "execution_count": null,
   "metadata": {
    "scrolled": false
   },
   "outputs": [],
   "source": [
    "#just an example\n",
    "#from transliterate import translit, get_available_language_codes\n",
    "#text = \"Lorem ipsum dolor sit amet\"\n",
    "#print(translit(text, 'mk'))"
   ]
  },
  {
   "cell_type": "markdown",
   "metadata": {},
   "source": [
    "But first we need all the municipalities. There is a value for ```Mun``` when the ```Place``` is a village. But otherwise the municipality and the place are the same. "
   ]
  },
  {
   "cell_type": "code",
   "execution_count": null,
   "metadata": {
    "scrolled": true
   },
   "outputs": [],
   "source": [
    "traffacc.Mun.fillna(traffacc.Place, inplace=True)\n",
    "traffacc\n",
    "\n",
    "#and now transliterate\n",
    "def latin(val):\n",
    "    try:\n",
    "        return (translit(val, 'mk', reversed=True))\n",
    "    except Exception:\n",
    "        return None\n",
    "    \n",
    "traffacc = traffacc.assign(MunLatin = traffacc.Mun.map(latin))\n",
    "#traffacc"
   ]
  },
  {
   "cell_type": "markdown",
   "metadata": {},
   "source": [
    "Now use seaborn to make a scatter plot of traffc accidents by age and time."
   ]
  },
  {
   "cell_type": "code",
   "execution_count": null,
   "metadata": {},
   "outputs": [],
   "source": [
    "import seaborn as sns\n",
    "import matplotlib.pyplot as plt\n",
    "import numpy as np \n",
    "\n",
    "#set default aestetics\n",
    "sns.set()\n",
    "\n",
    "#plot facet by type of road\n",
    "g = sns.FacetGrid(\n",
    "    data=traffacc,\n",
    "    col='TypeOfRoad',\n",
    "    hue='Outcome'\n",
    ")\n",
    "\n",
    "g.map(plt.scatter, \"AgeV1\", \"Hours\")\n",
    "g.set_axis_labels('Age','Hour of day')\n",
    "g.add_legend()\n",
    "g.set(xticks=np.arange(25,100,25), yticks=np.arange(0,25,4))"
   ]
  },
  {
   "cell_type": "code",
   "execution_count": null,
   "metadata": {},
   "outputs": [],
   "source": [
    "import pandas_profiling\n",
    "pandas_profiling.ProfileReport(traffacc)"
   ]
  }
 ],
 "metadata": {
  "kernelspec": {
   "display_name": "Python 3",
   "language": "python",
   "name": "python3"
  },
  "language_info": {
   "codemirror_mode": {
    "name": "ipython",
    "version": 3
   },
   "file_extension": ".py",
   "mimetype": "text/x-python",
   "name": "python",
   "nbconvert_exporter": "python",
   "pygments_lexer": "ipython3",
   "version": "3.7.0"
  }
 },
 "nbformat": 4,
 "nbformat_minor": 2
}
